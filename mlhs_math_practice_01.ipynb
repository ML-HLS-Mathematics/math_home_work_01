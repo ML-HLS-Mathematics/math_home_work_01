{
 "nbformat": 4,
 "nbformat_minor": 0,
 "metadata": {
  "colab": {
   "provenance": [],
   "collapsed_sections": []
  },
  "kernelspec": {
   "name": "python3",
   "display_name": "Python 3"
  },
  "language_info": {
   "name": "python"
  }
 },
 "cells": [
  {
   "cell_type": "markdown",
   "source": [
    "# Практическая работа №1"
   ],
   "metadata": {
    "id": "guCadZBdPCjE"
   }
  },
  {
   "cell_type": "markdown",
   "source": [
    "## Задание 1"
   ],
   "metadata": {
    "id": "GpeTR__0Y94X"
   }
  },
  {
   "cell_type": "markdown",
   "source": [
    "Найдите экстремумы следующих функций (вручную, где возможно) и укажите их тип (максимум, минимум):\n",
    "\n",
    "a) $f(x) = x^2 - 30x + 1$\n",
    "\n",
    "b) $g(x) = -x^3 + 5x - 7x^2 + 17$\n",
    "\n",
    "c) $h(x) = x^2 - 1/x$\n",
    "\n",
    "d) $j(x) = 1/x^5 + x^{17} + 8$"
   ],
   "metadata": {
    "id": "s6-0KV1AZAgM"
   }
  },
  {
   "cell_type": "markdown",
   "source": [
    "## Ручное решение задания"
   ],
   "metadata": {
    "collapsed": false
   }
  },
  {
   "cell_type": "markdown",
   "source": [
    "### a) $f(x) = x^2 - 30x + 1$\n",
    "\n",
    "1. Область определения функции:\n",
    "    $ \\left ( -\\infty ,+\\infty \\right ) $\n",
    "2. Поиск производной:\n",
    "Изображение\n",
    "![diff_f_x](files/diff_f_x.png)\n",
    "Latex\n",
    "    $f'(x) = 2x - 30$\n",
    "3. Поиск корней при $f'(x) = 0$ для определения экстремумов:\n",
    "Изображение\n",
    "![diff_f_x_zero_roots](files/diff_f_x_zero_roots.png)\n",
    "Latex\n",
    "    $2x-30=0$\n",
    "    $2(x-15)=0$\n",
    "    $x=15$\n",
    "4. Определение знаков производных\n",
    "![diff_f_x_mark](files/diff_f_x_mark.png)\n",
    "5. Итог\n",
    "Функция имеет только 1 экстремум, равный 15, где min: 15, max: нет"
   ],
   "metadata": {
    "collapsed": false
   }
  },
  {
   "cell_type": "markdown",
   "source": [
    "### b) $g(x) = -x^3 + 5x - 7x^2 + 17$\n",
    "\n",
    "1. Область определения функции:\n",
    "    $ \\left ( -\\infty ,+\\infty \\right ) $\n",
    "2. Поиск производной:\n",
    "Изображение\n",
    "![diff_g_x](files/diff_g_x.png)\n",
    "Latex\n",
    "    $g'(x) = -3x^2+5-14x=-3x^2-14x+5$\n",
    "3. Поиск корней при $g'(x) = 0$ для определения экстремумов:\n",
    "Изображение\n",
    "![diff_g_x_zero_roots](files/diff_g_x_zero_roots.png)\n",
    "Latex\n",
    "    $-3x^2-14x+5=0$\n",
    "    $D=14^2-4*(-3)*5=196+60=256=16^2$\n",
    "    $x_1= \\frac{14+16}{-2*3}$\n",
    "    $x_1=-5$\n",
    "    $x_2=\\frac{14-16}{-2*3}$\n",
    "    $x_2=\\frac{1}{3}$\n",
    "4. Определение знаков производных\n",
    "![diff_g_x_mark](files/diff_g_x_mark.png)\n",
    "5. Итог\n",
    "Функция имеет 2 экстремума, равные -5 и $\\frac{1}{3}$, где min: -5, max: $\\frac{1}{3}$"
   ],
   "metadata": {
    "collapsed": false
   }
  },
  {
   "cell_type": "markdown",
   "source": [
    "### c) $h(x) = x^2 - \\frac{1}{x}$\n",
    "\n",
    "1. Область определения функции:\n",
    "    $\\left(-\\-\\infty, 0) \\cup (0, +\\infty \\right)$\n",
    "2. Поиск производной:\n",
    "Изображение\n",
    "![diff_h_x](files/diff_h_x.png)\n",
    "Latex\n",
    "    $h'(x) = 2x + \\frac{1}{x^2}$\n",
    "3. Поиск корней при $h'(x) = 0$ для определения экстремумов:\n",
    "Изображение\n",
    "![diff_h_x_zero_roots](files/diff_h_x_zero_roots.png)\n",
    "Latex\n",
    "    $2x+\\frac{1}{x^2}=0$\n",
    "    $\\frac{2x^3 + 1}{x^2}=0$\n",
    "    Ограничение: $x\\neq0$\n",
    "    $2x^3+1=0$\n",
    "    $x^3=-\\frac{1}{2}$\n",
    "    $x_1=\\sqrt[3]{-\\frac{1}{2}}$\n",
    "    $x_1 \\approx -0.8$\n",
    "    $x_{2...3}$ - комплексные числа\n",
    "4. Определение знаков производных\n",
    "![diff_h_x_mark](files/diff_h_x_mark.png)\n",
    "5. Итог\n",
    "Функция имеет только 1 экстремум, равный примерно -0.8, где min: -0.8, max: нет"
   ],
   "metadata": {
    "collapsed": false
   }
  },
  {
   "cell_type": "markdown",
   "source": [
    "### d) $j(x) = \\frac{1}{x^5} + x^{17} + 8$\n",
    "\n",
    "1. Область определения функции:\n",
    "    $\\left(-\\-\\infty, 0) \\cup (0, +\\infty \\right)$\n",
    "2. Поиск производной:\n",
    "Изображение\n",
    "![diff_i_x](files/diff_i_x.png)\n",
    "Latex\n",
    "    $i'(x) = 17x^{16} -\\frac{5}{x^6}$\n",
    "3. Поиск корней при $i'(x) = 0$ для определения экстремумов:\n",
    "Изображение\n",
    "![diff_i_x_zero_roots](files/diff_i_x_zero_roots.png)\n",
    "Latex\n",
    "    $17x^{16} -\\frac{5}{x^6}=0$\n",
    "    $\\frac{17x^{22}-5}{x^6}=0$\n",
    "    Ограничение: $x\\neq0$\n",
    "    $17x^{22}-5=0$\n",
    "    $x^2=\\frac{5}{17}$\n",
    "    $x_1=\\sqrt[22]{\\frac{5}{17}}$\n",
    "    $x_1 \\approx 0.95$\n",
    "    $x_2=-\\sqrt[22]{\\frac{5}{17}}$\n",
    "    $x_2 \\approx -0.95$\n",
    "    $x_{3...22}$ - комплексные числа\n",
    "4. Определение знаков производных\n",
    "![diff_i_x_mark](files/diff_i_x_mark.png)\n",
    "5. Итог\n",
    "Функция имеет экстремумы, равные примерно -0.95 и 0.95 где min: 0.95, max: -0.95"
   ],
   "metadata": {
    "collapsed": false
   }
  },
  {
   "cell_type": "markdown",
   "source": [
    "## Задание 2"
   ],
   "metadata": {
    "id": "R5KQ7t_YZHa5"
   }
  },
  {
   "cell_type": "markdown",
   "source": [
    "Найдите экстремумы этих функций в Python."
   ],
   "metadata": {
    "id": "dIiGSRoEZPCU"
   }
  },
  {
   "cell_type": "markdown",
   "source": [
    "#### Добавление x как аргумент в функции:"
   ],
   "metadata": {
    "collapsed": false
   }
  },
  {
   "cell_type": "code",
   "execution_count": null,
   "outputs": [],
   "source": [
    "import sympy as sp\n",
    "x_symb = sp.Symbol('x', real=True)"
   ],
   "metadata": {
    "collapsed": false
   }
  },
  {
   "cell_type": "markdown",
   "source": [
    "#### Получения и выводы производных функций $f(x)$, $g(x)$, $h(x)$, $i(x)$:"
   ],
   "metadata": {
    "collapsed": false
   }
  },
  {
   "cell_type": "code",
   "execution_count": null,
   "outputs": [],
   "source": [
    "import Functions as fs\n",
    "import FunctionPrinter as fp\n",
    "import sympy as sp\n",
    "\n",
    "d_f_x = sp.diff(fs.f(x_symb))\n",
    "d_g_x = sp.diff(fs.g(x_symb))\n",
    "d_h_x = sp.diff(fs.h(x_symb))\n",
    "d_i_x = sp.diff(fs.i(x_symb))\n",
    "\n",
    "fp.display_function(\"f'(x)\", d_f_x)\n",
    "fp.display_function(\"g'(x)\", d_g_x)\n",
    "fp.display_function(\"h'(x)\", d_h_x)\n",
    "fp.display_function(\"i'(x)\", d_i_x)"
   ],
   "metadata": {
    "collapsed": false
   }
  },
  {
   "cell_type": "markdown",
   "source": [
    "#### Поиск координат экстремумов по координате X"
   ],
   "metadata": {
    "collapsed": false
   }
  },
  {
   "cell_type": "code",
   "execution_count": null,
   "outputs": [],
   "source": [
    "import Solver as slv\n",
    "\n",
    "ext_x_f = slv.solve_with_only_reals(d_f_x)\n",
    "ext_x_g = slv.solve_with_only_reals(d_g_x)\n",
    "ext_x_h = slv.solve_function(d_h_x)\n",
    "ext_x_i = slv.solve_function(d_i_x)"
   ],
   "metadata": {
    "collapsed": false
   }
  },
  {
   "cell_type": "markdown",
   "source": [
    "#### Вывод экстремумов функций $f(x)$, $g(x)$, $h(x)$, $i(x)$:"
   ],
   "metadata": {
    "collapsed": false
   }
  },
  {
   "cell_type": "code",
   "execution_count": null,
   "outputs": [],
   "source": [
    "import FunctionPrinter as fp\n",
    "\n",
    "res_name = 'Экстремумы функции'\n",
    "\n",
    "fp.display_function_with_some_result(\"f'(x)\", d_f_x, res_name, sp.solveset(d_f_x, domain=sp.Reals))\n",
    "fp.display_function_with_some_result(\"g'(x)\", d_g_x, res_name, sp.solveset(d_g_x, domain=sp.Reals))\n",
    "fp.display_function_with_some_result(\"h'(x)\", d_h_x, res_name, sp.solveset(d_h_x, domain=sp.Reals))\n",
    "fp.display_function_with_some_result(\"i'(x)\", d_i_x, res_name, sp.solveset(d_i_x, domain=sp.Reals))"
   ],
   "metadata": {
    "collapsed": false
   }
  },
  {
   "cell_type": "markdown",
   "source": [
    "## Задание 3"
   ],
   "metadata": {
    "collapsed": false
   }
  },
  {
   "cell_type": "markdown",
   "source": [
    "Найдите точки перегиба функций из задания 1 (вручную, где возможно)."
   ],
   "metadata": {
    "collapsed": false
   }
  },
  {
   "cell_type": "markdown",
   "source": [
    "### a) $f(x) = x^2 - 30x + 1$\n",
    "\n",
    "1. Из первого задания область определения:\n",
    "    $ \\left ( -\\infty ,+\\infty \\right ) $\n",
    "2. Из первого задания производная первого порядка:\n",
    "    $f'(x) = 2x - 30$\n",
    "3. Для получения точек перегиба, необходимо получить вторую производную:\n",
    "    $f''(x) = 2$\n",
    "4. Корней для $f''(x) = 0$ нет, следовательно для данной функции нет точек перегиба"
   ],
   "metadata": {
    "collapsed": false
   }
  },
  {
   "cell_type": "markdown",
   "source": [
    "### b) $g(x) = -x^3 + 5x - 7x^2 + 17$\n",
    "\n",
    "1. Из первого задания область определения: $ \\left ( -\\infty ,+\\infty \\right ) $\n",
    "2. Из первого задания производная первого порядка:\n",
    "    $g'(x) = -3x^2-14x+5$\n",
    "3. Для получения точек перегиба, необходимо получить вторую производную:\n",
    "    $g''(x) = -6x - 14$\n",
    "4. Поиск корней $g''(x)=0$ для точек перегиба:\n",
    "    $-6x-14=0$\n",
    "    $6x=-14$\n",
    "    $x_1 = -\\frac{14}{6}$\n",
    "    $x_1 = -\\frac{7}{3}$\n",
    "5. Проверка на то, является ли корень координатой x точки перегиба:\n",
    "    Знаки производной функции:\n",
    "    ![diff_2_g_x_mark](files/diff_2_g_x_mark.png)\n",
    "\n",
    "\n",
    "    Доказательство, что корень является координатой точки перегиба:\n",
    "    a. Функция $g(x)$ - непрерывна в принципе, т.к. её область определения $ \\left ( -\\infty ,+\\infty \\right ) $\n",
    "    b. Как отображено в изображении выше, ${g}''(x_{1})$ меняет знак при переходе через точку $x_{1}$\n",
    "\n",
    "    ***Из этого следует, что $x_1 = -\\frac{7}{3}$ является координатой x для точки перегиба.***\n",
    "6. Подстановка $x$ из $g''(x)=0$ в основную функцию:\n",
    "    $g''(-\\frac{7}{3})=(-\\frac{7}{3})^3+5(-\\frac{7}{3})-7(-\\frac{7}{3})^2+17=-\\frac{542}{27}$\n",
    "7. Итоговая точка перегиба: $(-\\frac{7}{3}; -\\frac{542}{27})$\n",
    "\n"
   ],
   "metadata": {
    "collapsed": false
   }
  },
  {
   "cell_type": "markdown",
   "source": [
    "### c) $h(x) = x^2 - \\frac{1}{x}$\n",
    "\n",
    "1. Из первого задания область определения:\n",
    "    $\\left(-\\-\\infty, 0) \\cup (0, +\\infty \\right)$\n",
    "2. Из первого задания производная первого порядка:\n",
    "    $h'(x) = 2x + \\frac{1}{x^2}$\n",
    "3. Для получения точек перегиба, необходимо получить вторую производную:\n",
    "    $h''(x) = 2 - \\frac{2}{x^3} = \\frac{2x^3-2}{x^3}$\n",
    "4. Поиск корней $h''(x)=0$ для точек перегиба:\n",
    "    $\\frac{2x^3-2}{x^3}=0$\n",
    "    Ограничение: $x\\neq0$\n",
    "    $2x^3-2=0$\n",
    "    $2x^3=2$\n",
    "    $x^3=1$\n",
    "    $x_1=1$\n",
    "    $x_{2...3}$ - комплексные числа\n",
    "5. Проверка на то, является ли корень координатой x точки перегиба:\n",
    "    Знаки производной функции:\n",
    "    ![diff_2_h_x_mark](files/diff_2_h_x_mark.png)\n",
    "\n",
    "\n",
    "    Доказательство, что корень является координатой точки перегиба:\n",
    "    a. Функция $h(x)$ - прерывается только в точке 0, что не является корнем уравнения второй производной\n",
    "    b. Как отображено в изображении выше, ${h}''(x_{1})$ меняет знак при переходе через точку $x_{1}$\n",
    "\n",
    "    ***Из этого следует, что $x_1 = 1$ является координатой x для точки перегиба.***\n",
    "6. Подстановка $x$ из $h''(x)=0$ в основную функцию:\n",
    "    $h''(1)=1^2-\\frac{1}{1}=0$\n",
    "7. Итоговая точка перегиба: $(1; 0)$"
   ],
   "metadata": {
    "collapsed": false
   }
  },
  {
   "cell_type": "markdown",
   "source": [
    "### d) $j(x) = \\frac{1}{x^5} + x^{17} + 8$\n",
    "\n",
    "1. Из первого задания область определения функции:\n",
    "    $\\left(-\\-\\infty, 0) \\cup (0, +\\infty \\right)$\n",
    "2. Из первого задания производная первого порядка:\n",
    "    $i'(x) = 17x^{16} -\\frac{5}{x^6}$\n",
    "3. Для получения точек перегиба, необходимо получить вторую производную:\n",
    "    $i''(x)=272x^{15}+\\frac{30}{x^7}=\\frac{272x^{15}+30x^8}{x^{15}}$\n",
    "4. Поиск корней $i''(x)=0$ для точек перегиба:\n",
    "    $\\frac{272x^{15}+30x^8}{x^{15}}=0$\n",
    "    Ограничение: $x \\neq 0$\n",
    "    ***У текущего уравнения нет корней.***\n",
    "5. Корней для $i''(x)=0$ нет, следовательно для данной функции нет точек перегиба"
   ],
   "metadata": {
    "collapsed": false
   }
  },
  {
   "cell_type": "markdown",
   "source": [
    "## Задание 4"
   ],
   "metadata": {
    "collapsed": false
   }
  },
  {
   "cell_type": "markdown",
   "source": [
    "Найдите точки перегиба этих функций в Python."
   ],
   "metadata": {
    "collapsed": false
   }
  },
  {
   "cell_type": "markdown",
   "source": [
    "#### Нахождение и вывод производных второго порядка"
   ],
   "metadata": {
    "collapsed": false
   }
  },
  {
   "cell_type": "code",
   "execution_count": null,
   "outputs": [],
   "source": [
    "import sympy as sp\n",
    "import FunctionPrinter as fp\n",
    "\n",
    "d_2_f_x = sp.diff(d_f_x)\n",
    "d_2_g_x = sp.diff(d_g_x)\n",
    "d_2_h_x = sp.diff(d_h_x)\n",
    "d_2_i_x = sp.diff(d_i_x)\n",
    "\n",
    "fp.display_function(\"f''(x)\", d_2_f_x)\n",
    "fp.display_function(\"g''(x)\", d_2_g_x)\n",
    "fp.display_function(\"h''(x)\", d_2_h_x)\n",
    "fp.display_function(\"i''(x)\", d_2_i_x)"
   ],
   "metadata": {
    "collapsed": false
   }
  },
  {
   "cell_type": "markdown",
   "source": [
    "#### Поиск и вывод возможных координат X для точек перегиба"
   ],
   "metadata": {
    "collapsed": false
   }
  },
  {
   "cell_type": "code",
   "execution_count": null,
   "outputs": [],
   "source": [
    "import Solver as slv\n",
    "import FunctionPrinter as fp\n",
    "import sympy as sp\n",
    "\n",
    "infl_x_f = slv.solve_with_only_reals(d_2_f_x)\n",
    "infl_x_g = slv.solve_with_only_reals(d_2_g_x)\n",
    "infl_x_h = slv.solve_with_only_reals(d_2_h_x)\n",
    "infl_x_i = slv.solve_with_only_reals(d_2_h_x)\n",
    "\n",
    "fp.display_function_with_some_result(\"f''(x)\", d_2_f_x, 'Точки перегиба', sp.solveset(d_2_f_x, domain=sp.Reals))\n",
    "fp.display_function_with_some_result(\"g''(x)\", d_2_g_x, 'Точки перегиба', sp.solveset(d_2_g_x, domain=sp.Reals))\n",
    "fp.display_function_with_some_result(\"h''(x)\", d_2_h_x, 'Точки перегиба', sp.solveset(d_2_h_x, domain=sp.Reals))\n",
    "fp.display_function_with_some_result(\"i''(x)\", d_2_i_x, 'Точки перегиба', sp.solveset(d_2_i_x, domain=sp.Reals))"
   ],
   "metadata": {
    "collapsed": false
   }
  },
  {
   "cell_type": "markdown",
   "source": [
    "## Задание 5"
   ],
   "metadata": {
    "collapsed": false
   }
  },
  {
   "cell_type": "markdown",
   "source": [
    "Постройте графики функций из задания 1 в Python (не забудьте подписать оси и сами графики):\n",
    "*   изобразите графики с подписанными осями\n",
    "*   отметьте одним цветом локальные экстремумы\n",
    "*   отметьте другим цветом точки перегиба\n",
    "*   подпишите на оси x значения экстремумов и точек перегиба\n",
    "\n",
    "P.S. Для того, чтобы отметить точку на графике, вам понадобится функция (plt.scatter), а для того, чтобы подписать её значение на оси (plt.annotate)."
   ],
   "metadata": {
    "collapsed": false
   }
  },
  {
   "cell_type": "markdown",
   "source": [
    "Пример хорошего графика:\n",
    "\n",
    "![good_graph.png](data:image/png;base64,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)"
   ],
   "metadata": {
    "collapsed": false
   }
  },
  {
   "cell_type": "markdown",
   "source": [
    "#### Инициализация формата для создаваемых графиков"
   ],
   "metadata": {
    "collapsed": false
   }
  },
  {
   "cell_type": "code",
   "execution_count": null,
   "outputs": [],
   "source": [
    "%matplotlib inline"
   ],
   "metadata": {
    "collapsed": false
   }
  },
  {
   "cell_type": "markdown",
   "source": [
    "### Визуализация графиков функций"
   ],
   "metadata": {
    "collapsed": false
   }
  },
  {
   "cell_type": "markdown",
   "source": [
    "### График $f(x)$"
   ],
   "metadata": {
    "collapsed": false
   }
  },
  {
   "cell_type": "code",
   "execution_count": null,
   "outputs": [],
   "source": [
    "import numpy\n",
    "import GraphicConfigurator as g_config\n",
    "import Functions as fs\n",
    "import GraphicTitleGenerator as t_gener\n",
    "import Solver as slv\n",
    "\n",
    "g_config.configure_standard_graphic_settings()\n",
    "g_config.set_axis_labels('x', fs.f_name('x'))\n",
    "g_config.set_title(t_gener.generate_extr_and_infl_points_title(fs.f_name('x')))\n",
    "\n",
    "#Подготовка координат для построения графика\n",
    "x_points = numpy.arange(-25, 25, 1)\n",
    "y_points = fs.f(x_points)\n",
    "\n",
    "x_ticks = [float(x) for x in ext_x_f + infl_x_f] #точек перегиба нет\n",
    "\n",
    "g_config.add_graphic(x_points, y_points, 'yellow')\n",
    "g_config.add_scatter(ext_x_f, slv.solve_function_multiple(fs.f, ext_x_f), '#0dff00', 'Точки экстремума')\n",
    "\n",
    "g_config.set_x_ticks(x_ticks)\n",
    "\n",
    "g_config.configure_standard_legend()"
   ],
   "metadata": {
    "collapsed": false
   }
  },
  {
   "cell_type": "markdown",
   "source": [
    "### График функции $g(x)$"
   ],
   "metadata": {
    "collapsed": false
   }
  },
  {
   "cell_type": "code",
   "execution_count": null,
   "outputs": [],
   "source": [
    "import numpy\n",
    "import GraphicConfigurator as g_config\n",
    "import Functions as fs\n",
    "import GraphicTitleGenerator as t_gener\n",
    "import Solver as slv\n",
    "\n",
    "g_config.configure_standard_graphic_settings()\n",
    "g_config.set_axis_labels('x', fs.g_name('x'))\n",
    "g_config.set_title(t_gener.generate_extr_and_infl_points_title(fs.g_name('x')))\n",
    "\n",
    "#Подготовка координат для построения графика\n",
    "x_points = numpy.arange(-25, 25, 0.1)\n",
    "y_points = fs.g(x_points)\n",
    "\n",
    "x_ticks = [float(x) for x in ext_x_g + infl_x_g]\n",
    "\n",
    "g_config.add_graphic(x_points, y_points, 'yellow')\n",
    "g_config.add_scatter(ext_x_g, slv.solve_function_multiple(fs.g, ext_x_g), '#0dff00', 'Точки экстремума')\n",
    "g_config.add_scatter(infl_x_g, slv.solve_function_multiple(fs.g, infl_x_g), '#ff0059', 'Точки перегиба')\n",
    "\n",
    "g_config.set_x_ticks(x_ticks)\n",
    "g_config.set_axis_limits(-20, 20, -75, 50)\n",
    "\n",
    "g_config.configure_standard_legend()"
   ],
   "metadata": {
    "collapsed": false
   }
  },
  {
   "cell_type": "markdown",
   "source": [
    "#### График функции $h(x)$"
   ],
   "metadata": {
    "collapsed": false
   }
  },
  {
   "cell_type": "code",
   "execution_count": null,
   "outputs": [],
   "source": [
    "import numpy\n",
    "import GraphicConfigurator as g_config\n",
    "import Functions as fs\n",
    "import GraphicTitleGenerator as t_gener\n",
    "import Solver as slv\n",
    "\n",
    "g_config.configure_standard_graphic_settings()\n",
    "g_config.set_axis_labels('x', fs.h_name('x'))\n",
    "g_config.set_title(t_gener.generate_extr_and_infl_points_title(fs.h_name('x')))\n",
    "\n",
    "#Подготовка координат для построения графика\n",
    "#2 диапазона т.к. у графика есть разрыв\n",
    "x_left = numpy.arange(-10, 0, 0.01)\n",
    "x_right = numpy.arange(0, 10, 0.01)\n",
    "\n",
    "y_left = fs.h(x_left)\n",
    "y_right = fs.h(x_right)\n",
    "\n",
    "x_ticks = [float(x) for x in ext_x_h + infl_x_h]\n",
    "\n",
    "g_config.add_graphic(x_left, y_left, 'yellow')\n",
    "g_config.add_graphic(x_right, y_right, 'yellow')\n",
    "\n",
    "g_config.add_scatter(ext_x_h, slv.solve_function_multiple(fs.h, ext_x_h), '#0dff00', 'Точки экстремума')\n",
    "g_config.add_scatter(infl_x_h, slv.solve_function_multiple(fs.h, infl_x_h), '#ff0059', 'Точки перегиба')\n",
    "\n",
    "g_config.set_x_ticks(x_ticks)\n",
    "g_config.set_axis_limits(-20, 20, -75, 50)\n",
    "\n",
    "g_config.configure_standard_legend()"
   ],
   "metadata": {
    "collapsed": false
   }
  },
  {
   "cell_type": "markdown",
   "source": [
    "### Функция $i(x)$"
   ],
   "metadata": {
    "collapsed": false
   }
  },
  {
   "cell_type": "code",
   "execution_count": null,
   "outputs": [],
   "source": [
    "import numpy\n",
    "import GraphicConfigurator as g_config\n",
    "import Functions as fs\n",
    "import GraphicTitleGenerator as t_gener\n",
    "import Solver as slv\n",
    "\n",
    "g_config.configure_standard_graphic_settings()\n",
    "g_config.set_axis_labels('x', fs.i_name('x'))\n",
    "g_config.set_title(t_gener.generate_extr_and_infl_points_title(fs.i_name('x')))\n",
    "\n",
    "#Подготовка координат для построения графика\n",
    "#2 диапазона т.к. у графика есть разрыв\n",
    "x_left = numpy.arange(-20, 0, 0.01)\n",
    "x_right = numpy.arange(0, 20, 0.01)\n",
    "\n",
    "y_left = fs.i(x_left)\n",
    "y_right = fs.i(x_right)\n",
    "\n",
    "x_ticks = [float(x) for x in ext_x_i + infl_x_i]\n",
    "\n",
    "g_config.add_graphic(x_left, y_left, 'yellow')\n",
    "g_config.add_graphic(x_right, y_right, 'yellow')\n",
    "\n",
    "g_config.add_scatter(ext_x_i, slv.solve_function_multiple(fs.i, ext_x_i), '#0dff00', 'Точки экстремума')\n",
    "g_config.add_scatter(infl_x_i, slv.solve_function_multiple(fs.i, infl_x_i), '#ff0059', 'Точки перегиба')\n",
    "\n",
    "g_config.set_x_ticks(x_ticks)\n",
    "g_config.set_axis_limits(-2, 2, -40, 40)\n",
    "\n",
    "g_config.configure_standard_legend()"
   ],
   "metadata": {
    "collapsed": false
   }
  },
  {
   "cell_type": "markdown",
   "source": [
    "## Задание 6"
   ],
   "metadata": {
    "collapsed": false
   }
  },
  {
   "cell_type": "markdown",
   "source": [
    "Модифицируйте функцию, осуществляющую метод градиентного спуска с семинара: добавьте опцию останавливать метод, если абсолютное значение производной функции в точке < некоторого $\\delta$ (delta добавьте в аргументы функции)."
   ],
   "metadata": {
    "collapsed": false
   }
  },
  {
   "cell_type": "markdown",
   "source": [
    "## Функция градиентного спуска из семинара + модификация для адаптации под любые функции"
   ],
   "metadata": {
    "collapsed": false
   }
  },
  {
   "cell_type": "code",
   "execution_count": null,
   "outputs": [],
   "source": [
    "import sympy as sp\n",
    "\n",
    "def gradient_descent(func, x_start, learning_rate, epsilon, num_iterations):\n",
    "    x_curr = x_start\n",
    "    df_x = sp.diff(func(x_symb)) # производная\n",
    "\n",
    "    trace = []\n",
    "    trace.append(x_curr)\n",
    "\n",
    "    iters_count = 0\n",
    "\n",
    "    for i in range(num_iterations):\n",
    "        x_new = x_curr - learning_rate * df_x.subs(x_symb, x_curr)\n",
    "        trace.append(x_new)\n",
    "\n",
    "        iters_count += 1\n",
    "\n",
    "        if abs(x_new - x_curr) < epsilon:\n",
    "            return x_curr, trace, iters_count\n",
    "\n",
    "        x_curr = x_new\n",
    "\n",
    "    return x_curr, trace, iters_count"
   ],
   "metadata": {
    "collapsed": false
   }
  },
  {
   "cell_type": "markdown",
   "source": [
    "## Переделанная функция под задание + модификация для адаптации под любые функции"
   ],
   "metadata": {
    "collapsed": false
   }
  },
  {
   "cell_type": "code",
   "execution_count": null,
   "outputs": [],
   "source": [
    "import sympy as sp\n",
    "\n",
    "def gradient_descent_modif(func, x_start, learning_rate, epsilon, delta, num_iterations):\n",
    "    x_curr = x_start\n",
    "    df_x = sp.diff(func(x_symb))  # производная\n",
    "\n",
    "    trace = []\n",
    "    trace.append(x_curr)\n",
    "\n",
    "    for i in range(num_iterations):\n",
    "        x_new = x_curr - learning_rate * df_x.subs(x_symb, x_curr)\n",
    "        trace.append(x_new)\n",
    "\n",
    "        temp_dif_x = df_x.subs(x_symb, x_curr)\n",
    "\n",
    "        if abs(x_new - x_curr) < epsilon or abs(sp.Float(temp_dif_x)) < delta: #сюда добавляется модификация по заданию\n",
    "            return x_curr, trace\n",
    "\n",
    "        x_curr = x_new\n",
    "\n",
    "    return x_curr, trace"
   ],
   "metadata": {
    "collapsed": false
   }
  },
  {
   "cell_type": "markdown",
   "source": [
    "## Задание 7"
   ],
   "metadata": {
    "id": "MH60U5sxZH7O"
   }
  },
  {
   "cell_type": "markdown",
   "source": [
    "Подберите начальное приближение (сделайте несколько запусков из случайной начальной точки) и шаг градиентного спуска таким образом, чтобы процедура выдавала правильное значение наименьшего локального минимума функций (если он есть):\n",
    "* в качестве результата выведите на экран значение начального приближения ($x_0$), `learning_rate`\n",
    "* нарисуйте график функции и изобразите на нём наименьший из найденных локальных минимумов; на оси $x$ подпишите значение этого минимума\n",
    "* если такой точки у функции нет, поясните это текстом при помощи Markdown"
   ],
   "metadata": {
    "id": "Z9xZTUGTZYrU"
   }
  },
  {
   "cell_type": "markdown",
   "source": [
    "### Решение задания для функции $f(x)$"
   ],
   "metadata": {
    "collapsed": false
   }
  },
  {
   "cell_type": "code",
   "source": [
    "import Functions as fs\n",
    "learning_rate = 2e-1 #либо 5e-1, чтобы точно 15 получить\n",
    "x_start = 10\n",
    "\n",
    "#Надо получить 15\n",
    "x_curr, trace, _ = gradient_descent(fs.f, x_start, learning_rate, 0.001, 10)\n",
    "\n",
    "print(f'Полученое округленное значение: {round(x_curr)}')\n",
    "print(f'Более точное значение: {x_curr}')\n",
    "\n",
    "print(f'Значение начального приближения: {x_start}')\n",
    "print(f'Шаг градиентного спуска: {learning_rate}')"
   ],
   "metadata": {
    "id": "KZDLoN1hak2V"
   },
   "execution_count": null,
   "outputs": []
  },
  {
   "cell_type": "code",
   "execution_count": null,
   "outputs": [],
   "source": [
    "print(trace)"
   ],
   "metadata": {
    "collapsed": false
   }
  },
  {
   "cell_type": "code",
   "execution_count": null,
   "outputs": [],
   "source": [
    "import numpy\n",
    "import GraphicConfigurator as g_config\n",
    "import Functions as fs\n",
    "import GraphicTitleGenerator as t_gener\n",
    "\n",
    "g_config.configure_standard_graphic_settings()\n",
    "g_config.set_axis_labels('x', fs.f_name('x'))\n",
    "g_config.set_title(t_gener.generate_minimum_gradient_title(fs.f_name('x')))\n",
    "\n",
    "#Подготовка координат для построения графика\n",
    "x_points = numpy.arange(-25, 25, 1)\n",
    "y_points = fs.f(x_points)\n",
    "\n",
    "x_ticks = [float(x_curr)]\n",
    "\n",
    "g_config.add_graphic(x_points, y_points, 'yellow')\n",
    "g_config.add_scatter(x_curr, fs.f(x_curr), '#0dff00', 'Точка минимума функции')\n",
    "\n",
    "g_config.set_x_ticks(x_ticks)\n",
    "\n",
    "g_config.configure_standard_legend()"
   ],
   "metadata": {
    "collapsed": false
   }
  },
  {
   "cell_type": "markdown",
   "source": [
    "### Решение задания для функции $g(x)$"
   ],
   "metadata": {
    "collapsed": false
   }
  },
  {
   "cell_type": "code",
   "execution_count": null,
   "outputs": [],
   "source": [
    "import Functions as fs\n",
    "\n",
    "learning_rate = 1e-1\n",
    "x_start = -6\n",
    "\n",
    "#Надо получить -5\n",
    "x_curr, trace, _ = gradient_descent(fs.g, x_start, learning_rate, 0.001, 10)\n",
    "\n",
    "print(f'Полученое округленное значение: {round(x_curr)}')\n",
    "print(f'Более точное значение: {x_curr}')\n",
    "\n",
    "print(f'Значение начального приближения: {x_start}')\n",
    "print(f'Шаг градиентного спуска: {learning_rate}')"
   ],
   "metadata": {
    "collapsed": false
   }
  },
  {
   "cell_type": "code",
   "execution_count": null,
   "outputs": [],
   "source": [
    "print(trace)"
   ],
   "metadata": {
    "collapsed": false
   }
  },
  {
   "cell_type": "code",
   "execution_count": null,
   "outputs": [],
   "source": [
    "import numpy\n",
    "import GraphicConfigurator as g_config\n",
    "import Functions as fs\n",
    "import GraphicTitleGenerator as t_gener\n",
    "\n",
    "g_config.configure_standard_graphic_settings()\n",
    "g_config.set_axis_labels('x', fs.g_name('x'))\n",
    "g_config.set_title(t_gener.generate_minimum_gradient_title(fs.g_name('x')))\n",
    "\n",
    "#Подготовка координат для построения графика\n",
    "x_points = numpy.arange(-25, 25, 0.1)\n",
    "y_points = fs.g(x_points)\n",
    "\n",
    "x_ticks = [float(x_curr)]\n",
    "\n",
    "g_config.add_graphic(x_points, y_points, 'yellow')\n",
    "\n",
    "g_config.add_scatter(x_curr, fs.g(x_curr), '#ff0059', 'Точка минимума функции')\n",
    "\n",
    "g_config.set_x_ticks(x_ticks)\n",
    "g_config.set_axis_limits(-20, 20, -75, 50)\n",
    "\n",
    "g_config.configure_standard_legend()"
   ],
   "metadata": {
    "collapsed": false
   }
  },
  {
   "cell_type": "markdown",
   "source": [
    "### Решение задания для функции $h(x)$"
   ],
   "metadata": {
    "collapsed": false
   }
  },
  {
   "cell_type": "code",
   "execution_count": null,
   "outputs": [],
   "source": [
    "import Functions as fs\n",
    "\n",
    "learning_rate = 1e-1\n",
    "x_start = -2\n",
    "\n",
    "#Надо получить -0.8\n",
    "x_curr, trace, _ = gradient_descent(fs.h, x_start, learning_rate, 0.001, 10)\n",
    "\n",
    "print(f'Полученое округленное значение: {round(x_curr, 1)}')\n",
    "print(f'Более точное значение: {x_curr}')\n",
    "\n",
    "print(f'Значение начального приближения: {x_start}')\n",
    "print(f'Шаг градиентного спуска: {learning_rate}')"
   ],
   "metadata": {
    "collapsed": false
   }
  },
  {
   "cell_type": "code",
   "execution_count": null,
   "outputs": [],
   "source": [
    "print(trace)"
   ],
   "metadata": {
    "collapsed": false
   }
  },
  {
   "cell_type": "code",
   "execution_count": null,
   "outputs": [],
   "source": [
    "import numpy\n",
    "import GraphicConfigurator as g_config\n",
    "import Functions as fs\n",
    "import GraphicTitleGenerator as t_gener\n",
    "\n",
    "g_config.configure_standard_graphic_settings()\n",
    "g_config.set_axis_labels('x', fs.h_name('x'))\n",
    "g_config.set_title(t_gener.generate_minimum_gradient_title(fs.h_name('x')))\n",
    "\n",
    "#Подготовка координат для построения графика\n",
    "#2 диапазона т.к. у графика есть разрыв\n",
    "x_left = numpy.arange(-10, 0, 0.01)\n",
    "x_right = numpy.arange(0, 10, 0.01)\n",
    "\n",
    "y_left = fs.h(x_left)\n",
    "y_right = fs.h(x_right)\n",
    "\n",
    "x_ticks = [float(x_curr)]\n",
    "\n",
    "g_config.add_graphic(x_left, y_left, 'yellow')\n",
    "g_config.add_graphic(x_right, y_right, 'yellow')\n",
    "\n",
    "g_config.add_scatter(x_curr, fs.h(x_curr), '#0dff00', 'Точка минимума функции')\n",
    "\n",
    "g_config.set_x_ticks(x_ticks)\n",
    "g_config.set_axis_limits(-20, 20, -75, 50)\n",
    "\n",
    "g_config.configure_standard_legend()"
   ],
   "metadata": {
    "collapsed": false
   }
  },
  {
   "cell_type": "markdown",
   "source": [
    "### Решение задания для функции $i(x)$"
   ],
   "metadata": {
    "collapsed": false
   }
  },
  {
   "cell_type": "code",
   "execution_count": null,
   "outputs": [],
   "source": [
    "import Functions as fs\n",
    "\n",
    "learning_rate = 1e-2\n",
    "x_start = 1\n",
    "\n",
    "#Надо получить 0.95\n",
    "x_curr, trace, _ = gradient_descent(fs.i, x_start, learning_rate, 0.001, 10)\n",
    "\n",
    "print(f'Полученое округленное значение: {round(x_curr, 2)}')\n",
    "print(f'Более точное значение: {x_curr}')\n",
    "\n",
    "print(f'Значение начального приближения: {x_start}')\n",
    "print(f'Шаг градиентного спуска: {learning_rate}')"
   ],
   "metadata": {
    "collapsed": false
   }
  },
  {
   "cell_type": "code",
   "execution_count": null,
   "outputs": [],
   "source": [
    "print(trace)"
   ],
   "metadata": {
    "collapsed": false
   }
  },
  {
   "cell_type": "code",
   "execution_count": null,
   "outputs": [],
   "source": [
    "import numpy\n",
    "import GraphicConfigurator as g_config\n",
    "import Functions as fs\n",
    "import GraphicTitleGenerator as t_gener\n",
    "\n",
    "g_config.configure_standard_graphic_settings()\n",
    "g_config.set_axis_labels('x', fs.i_name('x'))\n",
    "g_config.set_title(t_gener.generate_minimum_gradient_title(fs.i_name('x')))\n",
    "\n",
    "#Подготовка координат для построения графика\n",
    "#2 диапазона т.к. у графика есть разрыв\n",
    "x_left = numpy.arange(-20, 0, 0.01)\n",
    "x_right = numpy.arange(0, 20, 0.01)\n",
    "\n",
    "y_left = fs.i(x_left)\n",
    "y_right = fs.i(x_right)\n",
    "\n",
    "x_ticks = [float(x_curr)]\n",
    "\n",
    "g_config.add_graphic(x_left, y_left, 'yellow')\n",
    "g_config.add_graphic(x_right, y_right, 'yellow')\n",
    "\n",
    "g_config.add_scatter(x_curr, fs.i(x_curr), '#ff0059', 'Точка минимума функции')\n",
    "\n",
    "g_config.set_x_ticks(x_ticks)\n",
    "g_config.set_axis_limits(-2, 2, -40, 40)\n",
    "\n",
    "g_config.configure_standard_legend()"
   ],
   "metadata": {
    "collapsed": false
   }
  },
  {
   "cell_type": "markdown",
   "source": [
    "## Задание 8"
   ],
   "metadata": {
    "id": "FRZm6iyxZH9e"
   }
  },
  {
   "cell_type": "markdown",
   "source": [
    "Реализуйте [метод Ньютона](https://translated.turbopages.org/proxy_u/en-ru.ru.c97ef85d-631c4b6a-ff938028-74722d776562/https/en.wikipedia.org/wiki/Newton%27s_method_in_optimization) (метод второго порядка) для поиска минимума функции.\n",
    "\n",
    "Про метод ещё можно почитать [здесь](https://math.semestr.ru/optim/minimum.php)."
   ],
   "metadata": {
    "id": "nHqTeM3cZZfI"
   }
  },
  {
   "cell_type": "markdown",
   "source": [
    "## Реализация метода Ньютона"
   ],
   "metadata": {
    "collapsed": false
   }
  },
  {
   "cell_type": "code",
   "execution_count": null,
   "outputs": [],
   "source": [
    "import sympy as sp\n",
    "\n",
    "def newton(func, x_start, x_end, epsilon, iterations_count):\n",
    "    diff1 = sp.diff(func(x_symb))\n",
    "    diff2 = sp.diff(diff1)\n",
    "    diff3 = sp.diff(diff2)\n",
    "\n",
    "    x0 = x_start if diff1.subs(x_symb, x_start) * diff3.subs(x_symb, x_start) >= 0 else x_end\n",
    "\n",
    "    print('Точка старта:', x0)\n",
    "\n",
    "    xn = x0 - diff1.subs(x_symb, x0) / diff2.subs(x_symb, x0)\n",
    "    xnp1 = xn - diff1.subs(x_symb, xn) / diff2.subs(x_symb, xn)\n",
    "\n",
    "    iters_count = 0\n",
    "\n",
    "    for i in range(iterations_count):\n",
    "        iters_count += 1\n",
    "        xn = xnp1\n",
    "        xnp1 = xn - diff1.subs(x_symb, xn) / diff2.subs(x_symb, xn)\n",
    "\n",
    "        if abs(xn - xnp1) >= epsilon:\n",
    "            return xnp1, iters_count\n",
    "\n",
    "    return xnp1, iters_count"
   ],
   "metadata": {
    "collapsed": false
   }
  },
  {
   "cell_type": "markdown",
   "source": [
    "## Задание 9"
   ],
   "metadata": {
    "id": "--7xCYepZIAA"
   }
  },
  {
   "cell_type": "markdown",
   "source": [
    "Примените метод Ньютона для поиска минимума указанных функций (в ответе выведите подходящее значение начальной точки, график с найденным и подписанным значением минимума, как в задании 7)."
   ],
   "metadata": {
    "id": "omFeD-OnZdK_"
   }
  },
  {
   "cell_type": "markdown",
   "source": [
    "#### Применение метода Ньютона на функции $f(x)$"
   ],
   "metadata": {
    "collapsed": false
   }
  },
  {
   "cell_type": "code",
   "source": [
    "import Functions as fs\n",
    "\n",
    "x_start = -20\n",
    "x_end = 20\n",
    "\n",
    "min_v, _ = newton(fs.f, x_start, x_end, 0.001, 10)\n",
    "\n",
    "min_v = sp.Float(min_v)\n",
    "\n",
    "print('Минимум функции:', min_v)"
   ],
   "metadata": {
    "id": "8XJtp65GajsA"
   },
   "execution_count": null,
   "outputs": []
  },
  {
   "cell_type": "code",
   "execution_count": null,
   "outputs": [],
   "source": [
    "import numpy\n",
    "import GraphicConfigurator as g_config\n",
    "import Functions as fs\n",
    "import GraphicTitleGenerator as t_gener\n",
    "\n",
    "g_config.configure_standard_graphic_settings()\n",
    "g_config.set_axis_labels('x', fs.f_name('x'))\n",
    "g_config.set_title(t_gener.generate_minimum_newton_title(fs.f_name('x')))\n",
    "\n",
    "#Подготовка координат для построения графика\n",
    "x_points = numpy.arange(-25, 25, 1)\n",
    "y_points = fs.f(x_points)\n",
    "\n",
    "x_ticks = [float(min_v)]\n",
    "\n",
    "g_config.add_graphic(x_points, y_points, 'yellow')\n",
    "g_config.add_scatter(min_v, fs.f(min_v), '#0dff00', 'Точка минимума функции')\n",
    "\n",
    "g_config.set_x_ticks(x_ticks)\n",
    "\n",
    "g_config.configure_standard_legend()"
   ],
   "metadata": {
    "collapsed": false
   }
  },
  {
   "cell_type": "markdown",
   "source": [
    "#### Применение метода Ньютона на функции $g(x)$"
   ],
   "metadata": {
    "collapsed": false
   }
  },
  {
   "cell_type": "code",
   "execution_count": null,
   "outputs": [],
   "source": [
    "import Functions as fs\n",
    "\n",
    "x_start = -8\n",
    "x_end = 0\n",
    "\n",
    "min_v, _ = newton(fs.g, x_start, x_end, 0.001, 10)\n",
    "min_v = sp.Float(min_v)\n",
    "\n",
    "print('Минимум функции:', min_v)"
   ],
   "metadata": {
    "collapsed": false
   }
  },
  {
   "cell_type": "code",
   "execution_count": null,
   "outputs": [],
   "source": [
    "import numpy\n",
    "import GraphicConfigurator as g_config\n",
    "import Functions as fs\n",
    "import GraphicTitleGenerator as t_gener\n",
    "\n",
    "g_config.configure_standard_graphic_settings()\n",
    "g_config.set_axis_labels('x', fs.g_name('x'))\n",
    "g_config.set_title(t_gener.generate_minimum_newton_title(fs.g_name('x')))\n",
    "\n",
    "#Подготовка координат для построения графика\n",
    "x_points = numpy.arange(-25, 25, 0.1)\n",
    "y_points = fs.g(x_points)\n",
    "\n",
    "x_ticks = [float(min_v)]\n",
    "\n",
    "g_config.add_graphic(x_points, y_points, 'yellow')\n",
    "\n",
    "g_config.add_scatter(min_v, fs.g(min_v), '#ff0059', 'Точка минимума функции')\n",
    "\n",
    "g_config.set_x_ticks(x_ticks)\n",
    "g_config.set_axis_limits(-20, 20, -75, 50)\n",
    "\n",
    "g_config.configure_standard_legend()"
   ],
   "metadata": {
    "collapsed": false
   }
  },
  {
   "cell_type": "markdown",
   "source": [
    "#### Применение метода Ньютона на функции $h(x)$"
   ],
   "metadata": {
    "collapsed": false
   }
  },
  {
   "cell_type": "code",
   "execution_count": null,
   "outputs": [],
   "source": [
    "import Functions as fs\n",
    "\n",
    "x_start = -2\n",
    "x_end = 2\n",
    "\n",
    "#Надо получить ~ -0.8\n",
    "min_v, _ = newton(fs.h, x_start, x_end, 0.001, 10)\n",
    "min_v = sp.Float(min_v)\n",
    "\n",
    "print('Минимум функции:', min_v)"
   ],
   "metadata": {
    "collapsed": false
   }
  },
  {
   "cell_type": "code",
   "execution_count": null,
   "outputs": [],
   "source": [
    "import numpy\n",
    "import GraphicConfigurator as g_config\n",
    "import Functions as fs\n",
    "import GraphicTitleGenerator as t_gener\n",
    "\n",
    "g_config.configure_standard_graphic_settings()\n",
    "g_config.set_axis_labels('x', fs.h_name('x'))\n",
    "g_config.set_title(t_gener.generate_minimum_newton_title(fs.h_name('x')))\n",
    "\n",
    "#Подготовка координат для построения графика\n",
    "#2 диапазона т.к. у графика есть разрыв\n",
    "x_left = numpy.arange(-10, 0, 0.01)\n",
    "x_right = numpy.arange(0, 10, 0.01)\n",
    "\n",
    "y_left = fs.h(x_left)\n",
    "y_right = fs.h(x_right)\n",
    "\n",
    "x_ticks = [float(min_v)]\n",
    "\n",
    "g_config.add_graphic(x_left, y_left, 'yellow')\n",
    "g_config.add_graphic(x_right, y_right, 'yellow')\n",
    "\n",
    "g_config.add_scatter(min_v, fs.h(min_v), '#0dff00', 'Точка минимума функции')\n",
    "\n",
    "g_config.set_x_ticks(x_ticks)\n",
    "g_config.set_axis_limits(-20, 20, -75, 50)\n",
    "\n",
    "g_config.configure_standard_legend()"
   ],
   "metadata": {
    "collapsed": false
   }
  },
  {
   "cell_type": "markdown",
   "source": [
    "#### Применение метода Ньютона на функции $i(x)$"
   ],
   "metadata": {
    "collapsed": false
   }
  },
  {
   "cell_type": "code",
   "execution_count": null,
   "outputs": [],
   "source": [
    "import Functions as fs\n",
    "\n",
    "x_start = 1\n",
    "x_end = 0.1\n",
    "\n",
    "#Надо получить 0.95\n",
    "min_v, _ = newton(fs.i, x_start, x_end, 0.001, 10)\n",
    "min_v = sp.Float(min_v)\n",
    "\n",
    "print('Минимум функции:', min_v)"
   ],
   "metadata": {
    "collapsed": false
   }
  },
  {
   "cell_type": "code",
   "execution_count": null,
   "outputs": [],
   "source": [
    "import numpy\n",
    "import GraphicConfigurator as g_config\n",
    "import Functions as fs\n",
    "import GraphicTitleGenerator as t_gener\n",
    "\n",
    "g_config.configure_standard_graphic_settings()\n",
    "g_config.set_axis_labels('x', fs.i_name('x'))\n",
    "g_config.set_title(t_gener.generate_minimum_newton_title(fs.i_name('x')))\n",
    "\n",
    "#Подготовка координат для построения графика\n",
    "#2 диапазона т.к. у графика есть разрыв\n",
    "x_left = numpy.arange(-20, 0, 0.01)\n",
    "x_right = numpy.arange(0, 20, 0.01)\n",
    "\n",
    "y_left = fs.i(x_left)\n",
    "y_right = fs.i(x_right)\n",
    "\n",
    "x_ticks = [float(min_v)]\n",
    "\n",
    "g_config.add_graphic(x_left, y_left, 'yellow')\n",
    "g_config.add_graphic(x_right, y_right, 'yellow')\n",
    "\n",
    "g_config.add_scatter(min_v, fs.i(min_v), '#ff0059', 'Точка минимума функции')\n",
    "\n",
    "g_config.set_x_ticks(x_ticks)\n",
    "g_config.set_axis_limits(-2, 2, -40, 40)\n",
    "\n",
    "g_config.configure_standard_legend()"
   ],
   "metadata": {
    "collapsed": false
   }
  },
  {
   "cell_type": "markdown",
   "source": [
    "## Задание 10"
   ],
   "metadata": {
    "id": "Csc35WqLZcuM"
   }
  },
  {
   "cell_type": "markdown",
   "source": [
    "Сравните скорость работы градиентного спуска и метода Ньютона при одинаковой точности решения $|x_{found}-x_{true}|<10^{-5}$:\n",
    "* за сколько итераций каждый метод сходится (в среднем по всем функциям для правильно подобранных значений гиперпараметров)? Какой быстрее?\n",
    "* какой метод дает более точный результат при фиксированном числе итераций $N=10$? (для ответа на этот вопрос добавьте в процедуру градиентного спуска возможность останавливаться при достижении некоторого количества итераций $N$)"
   ],
   "metadata": {
    "id": "02XtrZOWaGBg"
   }
  },
  {
   "cell_type": "markdown",
   "source": [
    "***Общий вывод:***\n",
    "\n",
    "Метод Ньютона будет быстрее и поточнее. См. ниже результаты."
   ],
   "metadata": {
    "collapsed": false
   }
  },
  {
   "cell_type": "markdown",
   "source": [
    "#### Анализ для $f(x)$"
   ],
   "metadata": {
    "collapsed": false
   }
  },
  {
   "cell_type": "markdown",
   "source": [
    "Использование градиентного спуска"
   ],
   "metadata": {
    "collapsed": false
   }
  },
  {
   "cell_type": "code",
   "source": [
    "import Functions as fs\n",
    "\n",
    "x_found = 15.0\n",
    "\n",
    "learning_rate = 2e-1\n",
    "x_start = 10\n",
    "\n",
    "x_true, _, iters_count_grad = gradient_descent(fs.f, x_start, learning_rate, 1e-5, 10)\n",
    "\n",
    "print('Минимум функции, найденный вручную:', x_found)\n",
    "print('Минимум функции, найденный с помощью градиентного спуска:', x_true)\n",
    "print('Погрешность в значениях:', abs(x_found - x_true))\n",
    "print('Количество итераций, необходимые для получения наиболее ближнего значения:', iters_count_grad)"
   ],
   "metadata": {
    "id": "Qap0G9_mPIAB"
   },
   "execution_count": null,
   "outputs": []
  },
  {
   "cell_type": "markdown",
   "source": [
    "Использование метода Ньютона"
   ],
   "metadata": {
    "collapsed": false
   }
  },
  {
   "cell_type": "code",
   "execution_count": null,
   "outputs": [],
   "source": [
    "import Functions as fs\n",
    "\n",
    "x_found = 15\n",
    "\n",
    "x_start = 10\n",
    "x_end = 20\n",
    "\n",
    "x_true, iters_count_newton = newton(fs.f, x_start, x_end, 1e-5, 10)\n",
    "\n",
    "x_true = sp.Float(x_true)\n",
    "\n",
    "print('Минимум функции, найденный вручную:', x_found)\n",
    "print('Минимум функции, найденный с помощью метода Ньютона:', x_true)\n",
    "print('Погрешность в значениях:', abs(x_found - x_true))\n",
    "print('Количество итераций, необходимые для получения наиболее ближнего значения:', iters_count_newton)"
   ],
   "metadata": {
    "collapsed": false
   }
  },
  {
   "cell_type": "markdown",
   "source": [
    "#### Анализ для $g(x)$"
   ],
   "metadata": {
    "collapsed": false
   }
  },
  {
   "cell_type": "markdown",
   "source": [
    "Использование градиентного спуска"
   ],
   "metadata": {
    "collapsed": false
   }
  },
  {
   "cell_type": "code",
   "execution_count": null,
   "outputs": [],
   "source": [
    "import Functions as fs\n",
    "\n",
    "x_found = -5\n",
    "\n",
    "learning_rate = 1e-1\n",
    "x_start = -6\n",
    "\n",
    "x_true, _, iters_count_grad = gradient_descent(fs.g, x_start, learning_rate, 1e-5, 10)\n",
    "\n",
    "print('Минимум функции, найденный вручную:', x_found)\n",
    "print('Минимум функции, найденный с помощью градиентного спуска:', x_true)\n",
    "print('Погрешность в значениях:', abs(x_found - x_true))\n",
    "print('Количество итераций, необходимые для получения наиболее ближнего значения:', iters_count_grad)"
   ],
   "metadata": {
    "collapsed": false
   }
  },
  {
   "cell_type": "markdown",
   "source": [
    "Использование метода Ньютона"
   ],
   "metadata": {
    "collapsed": false
   }
  },
  {
   "cell_type": "code",
   "execution_count": null,
   "outputs": [],
   "source": [
    "import Functions as fs\n",
    "\n",
    "x_found = -5\n",
    "\n",
    "x_start = -8\n",
    "x_end = 0\n",
    "\n",
    "x_true, iters_count_newton = newton(fs.g, x_start, x_end, 1e-5, 10)\n",
    "\n",
    "x_true = sp.Float(x_true)\n",
    "\n",
    "print('Минимум функции, найденный вручную:', x_found)\n",
    "print('Минимум функции, найденный с помощью метода Ньютона:', x_true)\n",
    "print('Погрешность в значениях:', abs(x_found - x_true))\n",
    "print('Количество итераций, необходимые для получения наиболее ближнего значения:', iters_count_newton)"
   ],
   "metadata": {
    "collapsed": false
   }
  },
  {
   "cell_type": "markdown",
   "source": [
    "#### Анализ для $h(x)$"
   ],
   "metadata": {
    "collapsed": false
   }
  },
  {
   "cell_type": "markdown",
   "source": [
    "Использование градиентного спуска"
   ],
   "metadata": {
    "collapsed": false
   }
  },
  {
   "cell_type": "code",
   "execution_count": null,
   "outputs": [],
   "source": [
    "import Functions as fs\n",
    "\n",
    "x_found = -0.8\n",
    "\n",
    "learning_rate = 1e-1\n",
    "x_start = -2\n",
    "\n",
    "x_true, _, iters_count_grad = gradient_descent(fs.h, x_start, learning_rate, 1e-5, 10)\n",
    "\n",
    "print('Минимум функции, найденный вручную:', x_found)\n",
    "print('Минимум функции, найденный с помощью градиентного спуска:', x_true)\n",
    "print('Погрешность в значениях:', abs(x_found - x_true))\n",
    "print('Количество итераций, необходимые для получения наиболее ближнего значения:', iters_count_grad)"
   ],
   "metadata": {
    "collapsed": false
   }
  },
  {
   "cell_type": "markdown",
   "source": [
    "Использование метода Ньютона"
   ],
   "metadata": {
    "collapsed": false
   }
  },
  {
   "cell_type": "code",
   "execution_count": null,
   "outputs": [],
   "source": [
    "import Functions as fs\n",
    "\n",
    "x_found = -0.8\n",
    "\n",
    "x_start = -2\n",
    "x_end = 2\n",
    "\n",
    "x_true, iters_count_newton = newton(fs.h, x_start, x_end, 1e-5, 10)\n",
    "\n",
    "x_true = sp.Float(x_true)\n",
    "\n",
    "print('Минимум функции, найденный вручную:', x_found)\n",
    "print('Минимум функции, найденный с помощью метода Ньютона:', x_true)\n",
    "print('Погрешность в значениях:', abs(x_found - x_true))\n",
    "print('Количество итераций, необходимые для получения наиболее ближнего значения:', iters_count_newton)"
   ],
   "metadata": {
    "collapsed": false
   }
  },
  {
   "cell_type": "markdown",
   "source": [
    "#### Анализ для $i(x)$"
   ],
   "metadata": {
    "collapsed": false
   }
  },
  {
   "cell_type": "markdown",
   "source": [
    "Использование градиентного спуска"
   ],
   "metadata": {
    "collapsed": false
   }
  },
  {
   "cell_type": "code",
   "execution_count": null,
   "outputs": [],
   "source": [
    "import Functions as fs\n",
    "\n",
    "x_found = 0.95\n",
    "\n",
    "learning_rate = 1e-2\n",
    "x_start = 1\n",
    "\n",
    "x_true, _, iters_count_grad = gradient_descent(fs.i, x_start, learning_rate, 1e-5, 10)\n",
    "\n",
    "print('Минимум функции, найденный вручную:', x_found)\n",
    "print('Минимум функции, найденный с помощью градиентного спуска:', x_true)\n",
    "print('Погрешность в значениях:', abs(x_found - x_true))\n",
    "print('Количество итераций, необходимые для получения наиболее ближнего значения:', iters_count_grad)"
   ],
   "metadata": {
    "collapsed": false
   }
  },
  {
   "cell_type": "markdown",
   "source": [
    "Использование метода Ньютона"
   ],
   "metadata": {
    "collapsed": false
   }
  },
  {
   "cell_type": "code",
   "execution_count": null,
   "outputs": [],
   "source": [
    "import Functions as fs\n",
    "\n",
    "x_found = 0.95\n",
    "\n",
    "x_start = 1\n",
    "x_end = 0.1\n",
    "\n",
    "\n",
    "x_true, iters_count_newton = newton(fs.i, x_start, x_end, 1e-5, 10)\n",
    "\n",
    "x_true = sp.Float(x_true)\n",
    "\n",
    "print('Минимум функции, найденный вручную:', x_found)\n",
    "print('Минимум функции, найденный с помощью метода Ньютона:', x_true)\n",
    "print('Погрешность в значениях:', abs(x_found - x_true))\n",
    "print('Количество итераций, необходимые для получения наиболее ближнего значения:', iters_count_newton)"
   ],
   "metadata": {
    "collapsed": false
   }
  },
  {
   "cell_type": "markdown",
   "source": [
    "## Задание 11*"
   ],
   "metadata": {
    "id": "9UwHkl25SJcI"
   }
  },
  {
   "cell_type": "markdown",
   "source": [
    "Реализуйте оптимизацию метода градиентного спуска - [Momentum](https://ml-handbook.ru/chapters/optimization/intro#метод-инерции-momentum)."
   ],
   "metadata": {
    "id": "-si8S2A4aOFY"
   }
  },
  {
   "cell_type": "code",
   "source": [
    "import sympy as sp\n",
    "\n",
    "def gradient_descent_with_momentum(func, x_start, learning_rate, momentum, epsilon, num_iterations):\n",
    "    x_curr = x_start\n",
    "    x_prev = None #изначально предыдущего значения нет, следовательно он null. на правильно сего действия не претендую\n",
    "\n",
    "    df_x = sp.diff(func(x_symb)) # производная\n",
    "\n",
    "    trace = []\n",
    "    trace.append(x_curr)\n",
    "\n",
    "    iters_count = 0\n",
    "\n",
    "    for i in range(num_iterations):\n",
    "        if x_prev != None:\n",
    "            x_new = x_curr - learning_rate * df_x.subs(x_symb, x_curr) + momentum * (x_curr - x_prev)\n",
    "        else:\n",
    "            x_new = x_curr - learning_rate * df_x.subs(x_symb, x_curr)\n",
    "\n",
    "        trace.append(x_new)\n",
    "\n",
    "        iters_count += 1\n",
    "\n",
    "        if abs(x_new - x_curr) < epsilon:\n",
    "            return x_curr, trace, iters_count\n",
    "\n",
    "        x_prev = x_curr\n",
    "        x_curr = x_new\n",
    "\n",
    "    return x_curr, trace, iters_count"
   ],
   "metadata": {
    "id": "M1KTpeIiSR1w"
   },
   "execution_count": null,
   "outputs": []
  },
  {
   "cell_type": "markdown",
   "source": [
    "## Задание 12*"
   ],
   "metadata": {
    "id": "Z_W6L2FkSt6I"
   }
  },
  {
   "cell_type": "markdown",
   "source": [
    "Проверьте, решает ли Momentum GD проблему поиска начального приближения для функций из задания 1?"
   ],
   "metadata": {
    "id": "t7vgdURyaWRm"
   }
  },
  {
   "cell_type": "code",
   "execution_count": null,
   "outputs": [],
   "source": [
    "def print_conclusion(x_found, x_grad, x_grad_momentum):\n",
    "    print('Разница между стандартным град. спуском и оптимизацией Momentum:', abs(x_grad - x_grad_momentum))\n",
    "\n",
    "    if abs(x_grad_momentum - x_found) < abs(x_grad - x_found):\n",
    "        print('Наиболее приближенное значение является значение, полученное с помощью оптимизации Momentum')\n",
    "    else:\n",
    "        print('Наиболее приближенное значение является значение, полученное с помощью стандартного градиентного спуска')"
   ],
   "metadata": {
    "collapsed": false
   }
  },
  {
   "cell_type": "code",
   "execution_count": null,
   "outputs": [],
   "source": [
    "def print_result(res_name, x_found, x_true, iters_count):\n",
    "    print('Минимум функции, найденный вручную:', x_found)\n",
    "    print(f'Минимум функции, найденный с помощью {res_name}:', x_true)\n",
    "    print('Погрешность в значениях:', abs(x_found - x_true))\n",
    "    print('Количество итераций, необходимые для получения наиболее ближнего значения:', iters_count)"
   ],
   "metadata": {
    "collapsed": false
   }
  },
  {
   "cell_type": "markdown",
   "source": [
    "***Выводы:***\n",
    "\n",
    "Для функции $f(x)$: Аргумент импульса (Momentum) влияет на приближенность значения за то же количество итераций, что и при обычном градиентном спуске.\n",
    "Это значение может либо улучшить сходимость, либо ухудшить.\n",
    "\n",
    "Для функции $g(x)$: Momentum так же влияет на сходимость значения + если менять значение скорости обучения, то стандартного градиентного спуска может быть достаточно. Иногда стандартный град. спуск перепрыгивает целевое значение.\n",
    "\n",
    "Для функции $h(x)$: тут побеждает стандартный градиентный спуск. Но скорее всего если снизить epsilon и поработать с кол-вом итераций, то ситуация может поменяться.\n",
    "\n",
    "Для функции $i(x)$: так же побеждает стандартный градиентный спуск.\n",
    "\n",
    "***Общий вывод:***\n",
    "Если более детально поиграться с входными параметрами, то оптимизация может и помочь. Но не везде Momentum спасает ситуацию.\n",
    "Либо тогда не совсем корректно была сделана функция в части x_prev. Но с другой стороны откуда бы ей взяться в принципе в самом начале расчета."
   ],
   "metadata": {
    "collapsed": false
   }
  },
  {
   "cell_type": "markdown",
   "source": [
    "Использование оптимизации Momentum для функции $f(x)$"
   ],
   "metadata": {
    "collapsed": false
   }
  },
  {
   "cell_type": "code",
   "execution_count": null,
   "outputs": [],
   "source": [
    "import Functions as fs\n",
    "\n",
    "x_found = 15.0\n",
    "\n",
    "learning_rate = 3e-4\n",
    "x_start = 10\n",
    "\n",
    "momentum = float(input('Введите значение импульса:'))\n",
    "\n",
    "x_true_momentum, _, iters_count_grad = gradient_descent_with_momentum(fs.f, x_start, learning_rate, momentum, 1e-5, 10)\n",
    "\n",
    "print_result('оптимизации Momentum', x_found, x_true_momentum, iters_count_grad)"
   ],
   "metadata": {
    "collapsed": false
   }
  },
  {
   "cell_type": "markdown",
   "source": [
    "Дублирование стандартного градиентного спуска для сравнения"
   ],
   "metadata": {
    "collapsed": false
   }
  },
  {
   "cell_type": "code",
   "execution_count": null,
   "outputs": [],
   "source": [
    "import Functions as fs\n",
    "\n",
    "x_found = 15.0\n",
    "\n",
    "learning_rate = 3e-4\n",
    "x_start = 10\n",
    "\n",
    "x_true, _, iters_count_grad = gradient_descent(fs.f, x_start, learning_rate, 1e-5, 10)\n",
    "\n",
    "print_result('градиентного спуска', x_found, x_true, iters_count_grad)"
   ],
   "metadata": {
    "collapsed": false
   }
  },
  {
   "cell_type": "code",
   "execution_count": null,
   "outputs": [],
   "source": [
    "print_conclusion(x_found, x_true, x_true_momentum)"
   ],
   "metadata": {
    "collapsed": false
   }
  },
  {
   "cell_type": "markdown",
   "source": [
    "Использование оптимизации Momentum для функции $g(x)$"
   ],
   "metadata": {
    "collapsed": false
   }
  },
  {
   "cell_type": "code",
   "execution_count": null,
   "outputs": [],
   "source": [
    "import Functions as fs\n",
    "\n",
    "x_found = -5\n",
    "\n",
    "learning_rate = 3e-4\n",
    "x_start = -6\n",
    "\n",
    "momentum = float(input('Введите значение импульса:'))\n",
    "\n",
    "x_true_momentum, _, iters_count_grad = gradient_descent_with_momentum(fs.g, x_start, learning_rate, momentum, 1e-5, 10)\n",
    "\n",
    "print_result('оптимизации Momentum', x_found, x_true_momentum, iters_count_grad)"
   ],
   "metadata": {
    "collapsed": false
   }
  },
  {
   "cell_type": "markdown",
   "source": [
    "Дублирование стандартного градиентного спуска для сравнения"
   ],
   "metadata": {
    "collapsed": false
   }
  },
  {
   "cell_type": "code",
   "execution_count": null,
   "outputs": [],
   "source": [
    "import Functions as fs\n",
    "\n",
    "x_found = -5\n",
    "\n",
    "learning_rate = 3e-4\n",
    "x_start = -6\n",
    "\n",
    "x_true, _, iters_count_grad = gradient_descent(fs.g, x_start, learning_rate, 1e-5, 10)\n",
    "\n",
    "print_result('градиентного спуска', x_found, x_true, iters_count_grad)"
   ],
   "metadata": {
    "collapsed": false
   }
  },
  {
   "cell_type": "code",
   "execution_count": null,
   "outputs": [],
   "source": [
    "print_conclusion(x_found, x_true, x_true_momentum)"
   ],
   "metadata": {
    "collapsed": false
   }
  },
  {
   "cell_type": "markdown",
   "source": [
    "Использование оптимизации Momentum для функции $h(x)$"
   ],
   "metadata": {
    "collapsed": false
   }
  },
  {
   "cell_type": "code",
   "execution_count": null,
   "outputs": [],
   "source": [
    "import Functions as fs\n",
    "\n",
    "x_found = -0.8\n",
    "\n",
    "learning_rate = 1e-1\n",
    "x_start = -2\n",
    "\n",
    "momentum = float(input('Введите значение импульса:')) #от 0.5 и ниже более приближенные значения получаются\n",
    "\n",
    "x_true_momentum, _, iters_count_grad = gradient_descent_with_momentum(fs.h, x_start, learning_rate, momentum, 1e-5, 10)\n",
    "\n",
    "print_result('оптимизации Momentum', x_found, x_true_momentum, iters_count_grad)"
   ],
   "metadata": {
    "collapsed": false
   }
  },
  {
   "cell_type": "markdown",
   "source": [
    "Дублирование стандартного градиентного спуска для сравнения"
   ],
   "metadata": {
    "collapsed": false
   }
  },
  {
   "cell_type": "code",
   "execution_count": null,
   "outputs": [],
   "source": [
    "import Functions as fs\n",
    "\n",
    "x_found = -0.8\n",
    "\n",
    "learning_rate = 1e-1\n",
    "x_start = -2\n",
    "\n",
    "x_true, _, iters_count_grad = gradient_descent(fs.h, x_start, learning_rate, 1e-5, 10)\n",
    "\n",
    "print_result('градиентного спуска', x_found, x_true, iters_count_grad)"
   ],
   "metadata": {
    "collapsed": false
   }
  },
  {
   "cell_type": "code",
   "execution_count": null,
   "outputs": [],
   "source": [
    "print_conclusion(x_found, x_true, x_true_momentum)"
   ],
   "metadata": {
    "collapsed": false
   }
  },
  {
   "cell_type": "markdown",
   "source": [
    "Использование оптимизации Momentum для функции $i(x)$"
   ],
   "metadata": {
    "collapsed": false
   }
  },
  {
   "cell_type": "code",
   "execution_count": 149,
   "outputs": [
    {
     "name": "stdout",
     "output_type": "stream",
     "text": [
      "Минимум функции, найденный вручную: 0.95\n",
      "Минимум функции, найденный с помощью оптимизации Momentum: 0.946002651642716\n",
      "Погрешность в значениях: 0.00399734835728371\n",
      "Количество итераций, необходимые для получения наиболее ближнего значения: 10\n"
     ]
    }
   ],
   "source": [
    "import Functions as fs\n",
    "\n",
    "x_found = 0.95\n",
    "\n",
    "learning_rate = 1e-2\n",
    "x_start = 1\n",
    "\n",
    "momentum = float(input('Введите значение импульса:'))\n",
    "\n",
    "x_true_momentum, _, iters_count_grad = gradient_descent_with_momentum(fs.i, x_start, learning_rate, momentum, 1e-3, 10)\n",
    "\n",
    "print_result('оптимизации Momentum', x_found, x_true_momentum, iters_count_grad)"
   ],
   "metadata": {
    "collapsed": false
   }
  },
  {
   "cell_type": "markdown",
   "source": [
    "Дублирование стандартного градиентного спуска для сравнения"
   ],
   "metadata": {
    "collapsed": false
   }
  },
  {
   "cell_type": "code",
   "execution_count": 148,
   "outputs": [
    {
     "name": "stdout",
     "output_type": "stream",
     "text": [
      "Минимум функции, найденный вручную: 0.95\n",
      "Минимум функции, найденный с помощью градиентного спуска: 0.946395215890669\n",
      "Погрешность в значениях: 0.00360478410933052\n",
      "Количество итераций, необходимые для получения наиболее ближнего значения: 10\n"
     ]
    }
   ],
   "source": [
    "import Functions as fs\n",
    "\n",
    "x_found = 0.95\n",
    "\n",
    "learning_rate = 1e-2\n",
    "x_start = 1\n",
    "\n",
    "x_true, _, iters_count_grad = gradient_descent(fs.i, x_start, learning_rate, 1e-3, 10)\n",
    "\n",
    "print_result('градиентного спуска', x_found, x_true, iters_count_grad)"
   ],
   "metadata": {
    "collapsed": false
   }
  },
  {
   "cell_type": "code",
   "execution_count": 150,
   "outputs": [
    {
     "name": "stdout",
     "output_type": "stream",
     "text": [
      "Разница между стандартным град. спуском и оптимизацией Momentum: 0.000392564247953198\n",
      "Наиболее приближенное значение является значение, полученное с помощью стандартного градиентного спуска\n"
     ]
    }
   ],
   "source": [
    "print_conclusion(x_found, x_true, x_true_momentum)"
   ],
   "metadata": {
    "collapsed": false
   }
  },
  {
   "cell_type": "markdown",
   "source": [],
   "metadata": {
    "collapsed": false
   }
  }
 ]
}
